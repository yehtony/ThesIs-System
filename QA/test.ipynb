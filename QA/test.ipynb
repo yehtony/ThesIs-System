{
 "cells": [
  {
   "cell_type": "code",
   "execution_count": 26,
   "metadata": {},
   "outputs": [
    {
     "name": "stdout",
     "output_type": "stream",
     "text": [
      "答案: 除了葉羊和綠葉海天牛，還有一種稱為斑點鈍口螈的脊椎動物，其胚胎與一種單細胞藻類共生後，綠色水晶球狀的胚胎也能進行光合作用。\n"
     ]
    }
   ],
   "source": [
    "import requests\n",
    "from requests.auth import HTTPBasicAuth\n",
    "\n",
    "# 定义Elasticsearch服务器的地址和端口\n",
    "elasticsearch_url = \"http://140.115.126.33:9200\"\n",
    "index_name = \"chapter-index\"\n",
    "\n",
    "# 定义用户名和密码\n",
    "username = \"elastic\"\n",
    "password = \"ytwu35415\"\n",
    "\n",
    "# 执行Elasticsearch查询\n",
    "query = {\n",
    "    \"query\": {\"match\": {\"問題\": {\"query\": \"植物行光合作用\", \"fuzziness\": \"AUTO\"}}},\n",
    "    \"size\": 1,\n",
    "}\n",
    "\n",
    "response = requests.get(\n",
    "    f\"{elasticsearch_url}/{index_name}/_search\",\n",
    "    json=query,\n",
    "    auth=HTTPBasicAuth(username, password),\n",
    ")\n",
    "\n",
    "# 解析Elasticsearch的响应\n",
    "data = response.json()\n",
    "\n",
    "# 提取答案字段\n",
    "if \"hits\" in data and \"hits\" in data[\"hits\"]:\n",
    "    hit = data[\"hits\"][\"hits\"][0]\n",
    "    if hit.get(\"_score\", 0) > 20:\n",
    "            answer = hit[\"_source\"][\"答案\"]\n",
    "            print(\"答案:\", answer)\n",
    "    else:\n",
    "        print(\"相似度不足\")   "
   ]
  }
 ],
 "metadata": {
  "kernelspec": {
   "display_name": "Python 3",
   "language": "python",
   "name": "python3"
  },
  "language_info": {
   "codemirror_mode": {
    "name": "ipython",
    "version": 3
   },
   "file_extension": ".py",
   "mimetype": "text/x-python",
   "name": "python",
   "nbconvert_exporter": "python",
   "pygments_lexer": "ipython3",
   "version": "3.11.6"
  }
 },
 "nbformat": 4,
 "nbformat_minor": 2
}
