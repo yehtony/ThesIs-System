{
 "cells": [
  {
   "cell_type": "code",
   "execution_count": 1,
   "metadata": {},
   "outputs": [
    {
     "data": {
      "text/html": [
       "<div>\n",
       "<style scoped>\n",
       "    .dataframe tbody tr th:only-of-type {\n",
       "        vertical-align: middle;\n",
       "    }\n",
       "\n",
       "    .dataframe tbody tr th {\n",
       "        vertical-align: top;\n",
       "    }\n",
       "\n",
       "    .dataframe thead th {\n",
       "        text-align: right;\n",
       "    }\n",
       "</style>\n",
       "<table border=\"1\" class=\"dataframe\">\n",
       "  <thead>\n",
       "    <tr style=\"text-align: right;\">\n",
       "      <th></th>\n",
       "      <th>Source_Object_id</th>\n",
       "      <th>Source_Author_Name</th>\n",
       "      <th>Source_Object_created</th>\n",
       "      <th>Source_Object_type</th>\n",
       "      <th>Source_Object_title</th>\n",
       "      <th>Source_Note_body</th>\n",
       "      <th>Target_Object_id</th>\n",
       "      <th>Target_Author_Name</th>\n",
       "      <th>Target_Object_created</th>\n",
       "      <th>Target_Object_type</th>\n",
       "      <th>Target_Object_title</th>\n",
       "      <th>Target_Note_body</th>\n",
       "    </tr>\n",
       "  </thead>\n",
       "  <tbody>\n",
       "    <tr>\n",
       "      <th>0</th>\n",
       "      <td>63f5ffeac6af8731aaf96f2d</td>\n",
       "      <td>明靜 吳</td>\n",
       "      <td>2023-02-22T11:43:38.123Z</td>\n",
       "      <td>Note</td>\n",
       "      <td>元宇宙</td>\n",
       "      <td>線上的虛擬世界，可以在那裡進行遊戲式學習，例如: 在藝術館裡流覽NFT</td>\n",
       "      <td>63f5fce4c6af8731aaf9071b</td>\n",
       "      <td>詹 翊鋒</td>\n",
       "      <td>2023-02-22T11:30:44.230Z</td>\n",
       "      <td>Note</td>\n",
       "      <td>AR擴增實境</td>\n",
       "      <td>能夠減少資源的浪費，利用擴增實境來進行虛擬練習。</td>\n",
       "    </tr>\n",
       "    <tr>\n",
       "      <th>1</th>\n",
       "      <td>63f5fff3c6af8731aaf970f3</td>\n",
       "      <td>婉慈 李</td>\n",
       "      <td>2023-02-22T11:43:47.366Z</td>\n",
       "      <td>Note</td>\n",
       "      <td>回應2.</td>\n",
       "      <td>拒絕被分數綁架！</td>\n",
       "      <td>63f5fdc8c6af8731aaf918e2</td>\n",
       "      <td>郭 宛婷</td>\n",
       "      <td>2023-02-22T11:34:32.914Z</td>\n",
       "      <td>Note</td>\n",
       "      <td>未來的教室</td>\n",
       "      <td>1.如果未來的學習目標不改變,很難將未來的教室改變成影片中的樣子\\n2.知識與應用應該兼備,...</td>\n",
       "    </tr>\n",
       "    <tr>\n",
       "      <th>2</th>\n",
       "      <td>63f5fff5c6af8731aaf9714d</td>\n",
       "      <td>米丁 洪</td>\n",
       "      <td>2023-02-22T11:43:49.106Z</td>\n",
       "      <td>Note</td>\n",
       "      <td>學生有不同的學習方式</td>\n",
       "      <td>就像是與其給他魚吃，不如教他如何釣魚!?</td>\n",
       "      <td>63f5fd17c6af8731aaf909c3</td>\n",
       "      <td>嘉襄 陳</td>\n",
       "      <td>2023-02-22T11:31:35.801Z</td>\n",
       "      <td>Note</td>\n",
       "      <td>學生的學習歷程</td>\n",
       "      <td>學生的學習歷程變成學生的腳手架\\n讓學生自己安排事情的先後順序\\n讓學生有自主性與自發性\\n...</td>\n",
       "    </tr>\n",
       "    <tr>\n",
       "      <th>3</th>\n",
       "      <td>63f6000fc6af8731aaf978f6</td>\n",
       "      <td>嘉襄 陳</td>\n",
       "      <td>2023-02-22T11:44:15.731Z</td>\n",
       "      <td>Note</td>\n",
       "      <td>學生的多元發展</td>\n",
       "      <td>讓學生能有更多元的發展性\\n讓學生本身自己能創造更多的無限可能</td>\n",
       "      <td>63f5ff61c6af8731aaf9565c</td>\n",
       "      <td>米丁 洪</td>\n",
       "      <td>2023-02-22T11:41:21.004Z</td>\n",
       "      <td>Note</td>\n",
       "      <td>學生的學習方法</td>\n",
       "      <td>以往的學生都只是跟著課本學習、考試，但無法將知識真正的內建於自己的想法當中。\\n未來教室應該...</td>\n",
       "    </tr>\n",
       "    <tr>\n",
       "      <th>4</th>\n",
       "      <td>63f60018c6af8731aaf97c91</td>\n",
       "      <td>明靜 吳</td>\n",
       "      <td>2023-02-22T11:44:24.990Z</td>\n",
       "      <td>Note</td>\n",
       "      <td>到處都可學習</td>\n",
       "      <td>有手機就可以學習</td>\n",
       "      <td>63f5ff2ac6af8731aaf946e6</td>\n",
       "      <td>筱琪 戴</td>\n",
       "      <td>2023-02-22T11:40:26.340Z</td>\n",
       "      <td>Note</td>\n",
       "      <td>沒有教室</td>\n",
       "      <td>學習可以在任何地方發生\\n打破場地與設備的限制</td>\n",
       "    </tr>\n",
       "  </tbody>\n",
       "</table>\n",
       "</div>"
      ],
      "text/plain": [
       "           Source_Object_id Source_Author_Name     Source_Object_created  \\\n",
       "0  63f5ffeac6af8731aaf96f2d               明靜 吳  2023-02-22T11:43:38.123Z   \n",
       "1  63f5fff3c6af8731aaf970f3               婉慈 李  2023-02-22T11:43:47.366Z   \n",
       "2  63f5fff5c6af8731aaf9714d               米丁 洪  2023-02-22T11:43:49.106Z   \n",
       "3  63f6000fc6af8731aaf978f6               嘉襄 陳  2023-02-22T11:44:15.731Z   \n",
       "4  63f60018c6af8731aaf97c91               明靜 吳  2023-02-22T11:44:24.990Z   \n",
       "\n",
       "  Source_Object_type Source_Object_title                     Source_Note_body  \\\n",
       "0               Note                 元宇宙  線上的虛擬世界，可以在那裡進行遊戲式學習，例如: 在藝術館裡流覽NFT   \n",
       "1               Note                回應2.                             拒絕被分數綁架！   \n",
       "2               Note          學生有不同的學習方式                 就像是與其給他魚吃，不如教他如何釣魚!?   \n",
       "3               Note             學生的多元發展      讓學生能有更多元的發展性\\n讓學生本身自己能創造更多的無限可能   \n",
       "4               Note              到處都可學習                             有手機就可以學習   \n",
       "\n",
       "           Target_Object_id Target_Author_Name     Target_Object_created  \\\n",
       "0  63f5fce4c6af8731aaf9071b               詹 翊鋒  2023-02-22T11:30:44.230Z   \n",
       "1  63f5fdc8c6af8731aaf918e2               郭 宛婷  2023-02-22T11:34:32.914Z   \n",
       "2  63f5fd17c6af8731aaf909c3               嘉襄 陳  2023-02-22T11:31:35.801Z   \n",
       "3  63f5ff61c6af8731aaf9565c               米丁 洪  2023-02-22T11:41:21.004Z   \n",
       "4  63f5ff2ac6af8731aaf946e6               筱琪 戴  2023-02-22T11:40:26.340Z   \n",
       "\n",
       "  Target_Object_type Target_Object_title  \\\n",
       "0               Note              AR擴增實境   \n",
       "1               Note               未來的教室   \n",
       "2               Note             學生的學習歷程   \n",
       "3               Note             學生的學習方法   \n",
       "4               Note                沒有教室   \n",
       "\n",
       "                                    Target_Note_body  \n",
       "0                           能夠減少資源的浪費，利用擴增實境來進行虛擬練習。  \n",
       "1  1.如果未來的學習目標不改變,很難將未來的教室改變成影片中的樣子\\n2.知識與應用應該兼備,...  \n",
       "2  學生的學習歷程變成學生的腳手架\\n讓學生自己安排事情的先後順序\\n讓學生有自主性與自發性\\n...  \n",
       "3  以往的學生都只是跟著課本學習、考試，但無法將知識真正的內建於自己的想法當中。\\n未來教室應該...  \n",
       "4                            學習可以在任何地方發生\\n打破場地與設備的限制  "
      ]
     },
     "execution_count": 1,
     "metadata": {},
     "output_type": "execute_result"
    }
   ],
   "source": [
    "import pandas as pd\n",
    "\n",
    "# 請將下面的文件路徑替換為您要讀取的CSV檔案的路徑\n",
    "csv_file_path = 'KF 中文資料 改.csv'\n",
    "\n",
    "# 使用Pandas的read_csv函數讀取CSV檔案\n",
    "df = pd.read_csv(csv_file_path, encoding='utf-8')\n",
    "\n",
    "# 現在，df是一個Pandas DataFrame，您可以使用各種Pandas功能來處理和分析數據\n",
    "# 例如，您可以使用以下方式顯示前幾行數據：\n",
    "df.head()\n",
    "\n",
    "# 或者，您可以訪問特定列：\n",
    "# 例如，要訪問名為 'column_name' 的列，可以使用 df['column_name']"
   ]
  },
  {
   "cell_type": "code",
   "execution_count": 2,
   "metadata": {},
   "outputs": [
    {
     "data": {
      "text/html": [
       "<div>\n",
       "<style scoped>\n",
       "    .dataframe tbody tr th:only-of-type {\n",
       "        vertical-align: middle;\n",
       "    }\n",
       "\n",
       "    .dataframe tbody tr th {\n",
       "        vertical-align: top;\n",
       "    }\n",
       "\n",
       "    .dataframe thead th {\n",
       "        text-align: right;\n",
       "    }\n",
       "</style>\n",
       "<table border=\"1\" class=\"dataframe\">\n",
       "  <thead>\n",
       "    <tr style=\"text-align: right;\">\n",
       "      <th></th>\n",
       "      <th>Source_Object_title</th>\n",
       "      <th>Source_Note_body</th>\n",
       "    </tr>\n",
       "  </thead>\n",
       "  <tbody>\n",
       "    <tr>\n",
       "      <th>0</th>\n",
       "      <td>元宇宙</td>\n",
       "      <td>線上的虛擬世界，可以在那裡進行遊戲式學習，例如: 在藝術館裡流覽NFT</td>\n",
       "    </tr>\n",
       "    <tr>\n",
       "      <th>1</th>\n",
       "      <td>回應2.</td>\n",
       "      <td>拒絕被分數綁架！</td>\n",
       "    </tr>\n",
       "    <tr>\n",
       "      <th>2</th>\n",
       "      <td>學生有不同的學習方式</td>\n",
       "      <td>就像是與其給他魚吃，不如教他如何釣魚!?</td>\n",
       "    </tr>\n",
       "    <tr>\n",
       "      <th>3</th>\n",
       "      <td>學生的多元發展</td>\n",
       "      <td>讓學生能有更多元的發展性\\n讓學生本身自己能創造更多的無限可能</td>\n",
       "    </tr>\n",
       "    <tr>\n",
       "      <th>4</th>\n",
       "      <td>到處都可學習</td>\n",
       "      <td>有手機就可以學習</td>\n",
       "    </tr>\n",
       "  </tbody>\n",
       "</table>\n",
       "</div>"
      ],
      "text/plain": [
       "  Source_Object_title                     Source_Note_body\n",
       "0                 元宇宙  線上的虛擬世界，可以在那裡進行遊戲式學習，例如: 在藝術館裡流覽NFT\n",
       "1                回應2.                             拒絕被分數綁架！\n",
       "2          學生有不同的學習方式                 就像是與其給他魚吃，不如教他如何釣魚!?\n",
       "3             學生的多元發展      讓學生能有更多元的發展性\\n讓學生本身自己能創造更多的無限可能\n",
       "4              到處都可學習                             有手機就可以學習"
      ]
     },
     "execution_count": 2,
     "metadata": {},
     "output_type": "execute_result"
    }
   ],
   "source": [
    "main_df = df[['Source_Object_title', 'Source_Note_body']]\n",
    "main_df.head()"
   ]
  },
  {
   "cell_type": "code",
   "execution_count": 3,
   "metadata": {},
   "outputs": [
    {
     "name": "stderr",
     "output_type": "stream",
     "text": [
      "C:\\Users\\yexua\\AppData\\Local\\Temp\\ipykernel_284\\1274646375.py:1: SettingWithCopyWarning: \n",
      "A value is trying to be set on a copy of a slice from a DataFrame.\n",
      "Try using .loc[row_indexer,col_indexer] = value instead\n",
      "\n",
      "See the caveats in the documentation: https://pandas.pydata.org/pandas-docs/stable/user_guide/indexing.html#returning-a-view-versus-a-copy\n",
      "  main_df['節點內容'] = \"標題：\" + df['Source_Object_title'] + \"。內容：\" + df['Source_Note_body']\n"
     ]
    }
   ],
   "source": [
    "main_df['節點內容'] = \"標題：\" + df['Source_Object_title'] + \"。內容：\" + df['Source_Note_body']"
   ]
  },
  {
   "cell_type": "code",
   "execution_count": 4,
   "metadata": {},
   "outputs": [
    {
     "name": "stdout",
     "output_type": "stream",
     "text": [
      "標題：元宇宙。內容：線上的虛擬世界，可以在那裡進行遊戲式學習，例如: 在藝術館裡流覽NFT\n",
      "標題：回應2.。內容：拒絕被分數綁架！\n",
      "標題：學生有不同的學習方式。內容：就像是與其給他魚吃，不如教他如何釣魚!?\n",
      "標題：學生的多元發展。內容：讓學生能有更多元的發展性\n",
      "讓學生本身自己能創造更多的無限可能\n",
      "標題：到處都可學習。內容：有手機就可以學習\n"
     ]
    }
   ],
   "source": [
    "node = main_df['節點內容'].head().str.cat(sep='\\n')\n",
    "print(node)"
   ]
  },
  {
   "cell_type": "code",
   "execution_count": 5,
   "metadata": {},
   "outputs": [],
   "source": [
    "from transformers import AutoTokenizer, AutoModelForSeq2SeqLM, pipeline\n",
    "\n",
    "model_name = \"yihsuan/mt5_chinese_small\"\n",
    "tokenizer = AutoTokenizer.from_pretrained(model_name)\n",
    "model = AutoModelForSeq2SeqLM.from_pretrained(model_name)\n",
    "\n",
    "summarizer = pipeline(\"summarization\", model=model, tokenizer=tokenizer)"
   ]
  },
  {
   "cell_type": "code",
   "execution_count": 6,
   "metadata": {},
   "outputs": [
    {
     "name": "stdout",
     "output_type": "stream",
     "text": [
      "[{'summary_text': '學生的多元發展'}]\n"
     ]
    }
   ],
   "source": [
    "summary = summarizer(node)\n",
    "print(summary)"
   ]
  }
 ],
 "metadata": {
  "kernelspec": {
   "display_name": "Python 3",
   "language": "python",
   "name": "python3"
  },
  "language_info": {
   "codemirror_mode": {
    "name": "ipython",
    "version": 3
   },
   "file_extension": ".py",
   "mimetype": "text/x-python",
   "name": "python",
   "nbconvert_exporter": "python",
   "pygments_lexer": "ipython3",
   "version": "3.10.9"
  }
 },
 "nbformat": 4,
 "nbformat_minor": 2
}
